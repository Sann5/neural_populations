{
 "cells": [
  {
   "cell_type": "markdown",
   "metadata": {},
   "source": [
    "# Modeling Neural Population with Gaussian Mixture Models"
   ]
  },
  {
   "cell_type": "markdown",
   "metadata": {},
   "source": [
    "The present work explores how one can model learning in neural populations as an insatnce of online Gaussian Mixture Model (GMM) learning. First we descirbe the Hard Expectation-Maximization (EM) algorithm, a common method to infere GMM's. We then show how by assuming sperichal varainces and uniform wights the Hard EM algorithm becomes one and the same with the K-means algorithm. Then we show how K-means can be seen as an istance of a Winner Takes it All (WTA) network. \n",
    "\n",
    "We then briefly describe why the EM algorithm is convenient to model the system at hand and go on to relax the simplifications made in the Hard EM algorithm to give way tho the Soft EM algorithm. Finally we touch on the implications that lifting these simplifications has on the analogue nerual model. "
   ]
  },
  {
   "cell_type": "markdown",
   "metadata": {},
   "source": [
    "### GMMs and the EM algorithm"
   ]
  },
  {
   "cell_type": "markdown",
   "metadata": {},
   "source": [
    "Hidden variable models seek to explain observed variables in terms of latent ones. The EM algorithm allowes us to do maximum likelihood estimation (MLE) or maximum a posteriori (MAP) estimation with models that have hidden random variables (RVs). \n",
    "\n",
    "The EM algorithm finds one of it's use cases is clasification problems, where one seeks to label unlabled data points. In this context the hidden variables are the underlying labels of the data points. If we assume that the distribution of the data given that we know the label (also referred to as cluster identity) is Gaussian, this gives way to GMMs. \n",
    "\n",
    "Hence, we can write the conditional porbability of a specific data point as a linear combination of a set of Gaussians. \n",
    "\n",
    "$$\n",
    "P(x \\mid \\mu, \\Sigma, w) = \\sum_{i=1}^{K} w_i \\mathcal{N}(x; \\mu_i, \\Sigma_i)\n",
    "$$\n",
    "\n",
    "Here $x$ is our data point, and $\\mu_i$ and $\\Sigma_i$ represent the mean and covariance matrix of cluster $i$.\n",
    "\n",
    "### The Hard EM \n",
    "The EM algorithm iterates until convergence. One iteration of the EM starts by performming an Expectations step (E-step) followed by a Maximization step (M-step). For the Hard EM in the classification setting the E-step classifies each data point as belonging to one of the clusters. We denote this correspondance as $z_i$, where $i$ indicates the index of a specific data point. In the following equations superscript $(t)$ indicates the iteration in the algoritm and $\\theta$ our model parameters, namely $\\mu_i$ and $\\Sigma_i$\n",
    "\n",
    "#### E-step\n",
    "$$\n",
    "z_i^{(t)} = \\underset{z}{\\operatorname{arg max}} P(z | x_i, \\theta^{(t-1)})\n",
    "$$\n",
    "\n",
    "We can decompose $P(z | x_i, \\theta^{(t-1)})$ using Bayes rule to get the follwoing expression.\n",
    "\n",
    "$$\n",
    "z_i^{(t)} = \\underset{z}{\\operatorname{arg max}} \\frac{1}{Z} P(z | \\theta^{(t-1)}) P(x_i | z, \\theta^{(t-1)}) \n",
    "$$\n",
    "\n",
    "$P(z | \\theta^{(t-1)})$ is the probabity of any data point belonging to cluster $z$. By assuming that each cluster has the same size, these probabilities are the same for all clusters (e.g. $\\frac{1}{K}$) and hence do not play a role in the maximization argument. $P(x_i | z, \\theta^{(t-1)})$ is the probability of our data point belonging to cluster $z$ given our past estimate of the parameteres $\\theta^{(t-1)}$, namely $\\mathcal{N}(x_i; z, \\theta^{(t-1)})$. $\\frac{1}{Z}$ is the normalization constant from Bayes rule which is also independen of $z$ and therefor can be omited in the maximization. These observations give way to the folowing expression.\n",
    "\n",
    "$$\n",
    "z_i^{(t)} = \\underset{z}{\\operatorname{arg max}} \\frac{1}{\\sqrt{(2\\pi\\sigma^2)^d}} \\exp(\\frac{1}{2\\sigma^2} \\| x_i - \\mu_z^{(t-1)}\\|_2^2 )\n",
    "$$\n",
    "\n",
    "We can see again that the maximization is only over the squared 2-norm and we can aslo note that maximizing this quantity is equivalent to minimizing the 2-norm.\n",
    "\n",
    "$$\n",
    "z_i^{(t)} = \\underset{z}{\\operatorname{arg min}} \\| x_i - \\mu_z^{(t-1)} \\|_2\n",
    "$$"
   ]
  },
  {
   "cell_type": "markdown",
   "metadata": {},
   "source": [
    "#### M-step\n",
    "Thanks to the estimates of the cluster membership computed in the E-step we now have a full \"labeled\" data set $D^{(t)} = \\{ (x_1, z_1^{(t)}), \\dots, (x_n, z_n^{(t)})\\}$ and can now do maximum likelihood estimation (MLE) on the following quantitiy. \n",
    "\n",
    "$$\n",
    "\\theta^{(t)} = \\underset{\\theta}{\\operatorname{arg max}} P(D^{(t)} | \\theta)\n",
    "$$\n",
    "\n",
    "First we note that we can rewrite $P(D^{(t)} | \\theta)$ as $P(x_{1:n}, z_{i:n} | \\theta)$ and then use the chain rule to write $P(x_{1:n} | z_{i:n}, \\theta) P(z_{i:n} | \\theta)$. Then by applying the log we get the following expression. \n",
    "\n",
    "$$\n",
    "LL(\\theta) = \\log P(x_{1:n}, z_{i:n} | \\theta) = \\log P(x_{1:n} | z_{i:n}, \\theta) + \\log P(z_{i:n} | \\theta)\n",
    "$$\n",
    "\n",
    "We know from the preovious derivation that $P(z_{i:n} | \\theta^{(t-1)})$ are the weights of the clusters and that $P(x_{1:n} | z_{i:n}, \\theta^{(t-1)})$ is the normal distribution with parameters $\\theta^{(t-1)}$. Then by assuimng that the data points are conditionally independent we arrive at the following expression.\n",
    "\n",
    "$$\n",
    "= \\sum_i^n \\log w_i - \\log \\frac{1}{\\sqrt{(2\\pi\\sigma^2)^d}} - \\frac{1}{2\\sigma^2} || x_i - \\mu_z ||_2^2 \n",
    "$$\n",
    "\n",
    "Finally we can apply perform MLE on this expression by applying the derivative and setting it to zero to find the expression for the update of our parameters. Since in this specific case we are only updating the means $\\mu_z$ and leaving both the weights and the variances untoched we only show the expresion for the fromer. \n",
    "\n",
    "$$\n",
    "\\mu_z^{(t)} = \\frac{\\sum_i^n \\mathbb{1} (z_i^{(t)} = z) x_i}{\\sum_i^n \\mathbb{1} (z_i^{(t)} = z)}\n",
    "$$\n",
    "\n",
    "We can now see that by considering fixed sperical variances and weights the Hard EM perfomres exactly the same operations as the K-means algorithm."
   ]
  },
  {
   "cell_type": "markdown",
   "metadata": {
    "tags": []
   },
   "source": [
    "#### K-means algorithm\n",
    "##### Step 1\n",
    "$$\n",
    "z_i^{(t)} = \\underset{z}{\\operatorname{arg min}} \\| x_i - \\mu_z\\|_2\n",
    "$$\n",
    "\n",
    "##### Step 2\n",
    "$$\n",
    "\\mu_z^{(t)} = \\frac{\\sum_i^n \\mathbb{1} (z_i^{(t)} = z) x_i}{\\sum_i^n \\mathbb{1} (z_i^{(t)} = z)}\n",
    "$$"
   ]
  },
  {
   "cell_type": "markdown",
   "metadata": {},
   "source": [
    "### The Soft EM"
   ]
  },
  {
   "cell_type": "markdown",
   "metadata": {},
   "source": [
    "One opf the problems often encountered when using the vanilla K-means is that the outcome of the clustering (the final asignment of data points to clusters), depends highlt on initialization. It is common for some centorids to be asigned two or more clusters of data points, while other centroids are left without children datapoints and hence never get updated. This is partly due to the \"hardness\" of the asignment step. By modeling centroids as being only partly responsable for a given data point, instead of belonging exlusively to one group, we can enhance performance. This is what the Soft EM does, it assignes soft assignments instead of hard ones. \n",
    "\n",
    "<img align=\"center\" src=\"./img/problems_kmeans.png\" width=\"400\">"
   ]
  },
  {
   "cell_type": "markdown",
   "metadata": {},
   "source": [
    "#### E-step\n",
    "Now we seek to find the responsability $\\gamma_j(x_i)$ of each cluster on each data point, or in other words the probability that data point $x_i$ belongs to cluster $j$. Here $\\theta$ encompases $\\Sigma, \\mu$ and $w$.\n",
    "\n",
    "$$\n",
    "\\gamma_j(x_i) = P (z = j | x_i, \\theta)\n",
    "$$\n",
    "\n",
    "TODO: \n",
    "\n",
    "- derivation of Gamma\n",
    "- M step\n",
    "- explain impliations of the rleaxations"
   ]
  },
  {
   "cell_type": "markdown",
   "metadata": {},
   "source": [
    "## Winner Takes it All"
   ]
  },
  {
   "cell_type": "markdown",
   "metadata": {},
   "source": [
    "We have shown that K-means is equivalent to the Hard EM algorithm. Now we show that it is also equivalent to a WTA network. Given a 2 layered, fully conected artificial neural network (ANN), a WTA network is one where given an input, only one neuron $y_i$ in the output layer will be activated.\n",
    "\n",
    "<img align=\"center\" src=\"./img/wta.png\" width=\"400\">"
   ]
  },
  {
   "cell_type": "markdown",
   "metadata": {},
   "source": [
    "Then, given a series of inputs $X_i = (x_1, ..., x_n)$, we seek optimally classify the inputs using our $m$ output neurons. We train our network by adjusting the $w_{nm}$ weights in the network. The idea is that given an input pattern $X_i$ the  asociated weights $w_{m:}$ of winning neuron $y_m$ get adjusted such that if the same or a similar input $X_i$ is presented to the network then $y_m$ is again the winner, thereby succeding to classifying the input. Following this rationale it is only natural to adjust the weights $w_{m:}$ accordiing to some error that is a function of the difference between the weights $w_{m:} \\in \\mathbb{R}^n$ and $X_i \\in \\mathbb{R}^n$. \n",
    "\n",
    "$$\n",
    "w_{m:} \\leftarrow w_{m:} + \\epsilon'(X_i - w_{m:})\n",
    "$$\n",
    "\n",
    "If we choose the squared L2 norm as our messure of distance we can take the derivative w.r.t $w_{m:}$ and use the result as the update function $\\epsilon'(X_i - w_{m:})$. One can also modify the learinign schema such that a learning rate $\\eta$ is incorporated as $\\eta \\epsilon'(X_i - w_{m:})$ to control the magnitude of the adjustents, however here we stick to the vanilla version ommiting such term. \n",
    "\n",
    "$$\n",
    "\\epsilon(X_i - w_{m:}) = \\frac{1}{2} ||X_i - w_{m:}||_2^2 \n",
    "$$\n",
    "\n",
    "$$\n",
    "\\frac{d}{dw_{m:}} \\epsilon(X_i - w_{m:}) =  \\frac{d}{dw_{m:}} \\frac{1}{2} ||X_i - w_{m:}||_2^2 = -(X_i - w_{m:}) = \\epsilon'(X_i - w_{m:})\n",
    "$$\n",
    "\n",
    "$$\n",
    "w_{m:} \\leftarrow w_{m:} - (X_i - w_{m:})\n",
    "$$\n",
    "\n",
    "we recover an online version of the K-means algoritm. A perfect equivalence with the K-means algorithm would require that all the inputs $X_i$ to be presented at once. In such case we would simply adjust our cost function to account for all $N$ data points asociated to the output $y_m$. By minimizing this quantity (applying the derivative, seting it to zero and solving for $w_{m:}$) we find that the update is the same as in the K-means algoritm, showing the equivalence between these two simingly different clustering schemas. \n",
    "\n",
    "$$\n",
    "\\epsilon(X_i - w_{m:}) = \\frac{1}{2} \\sum_{i=1}^N ||X_i - w_{m:}||_2^2 \n",
    "$$\n",
    "\n",
    "$$\n",
    "\\hat{w_{m:}} = \\underset{w_{m:}}{\\operatorname{arg min}} \\frac{1}{2} \\sum_{i=1}^N ||X_i - w_{m:}||_2^2 \n",
    "$$\n",
    "\n",
    "$$\n",
    "\\hat{w_{m:}} = \\frac{\\sum_i^N X_i}{N}\n",
    "$$"
   ]
  },
  {
   "cell_type": "markdown",
   "metadata": {},
   "source": [
    "TODO: \n",
    "\n",
    "- read SoftWTA\n",
    "- explain soft WTA\n",
    "- Why are WTA interesting biologically"
   ]
  },
  {
   "cell_type": "markdown",
   "metadata": {},
   "source": [
    "TODO later:\n",
    "- join WTA with EM and explains why the probabilistic interpretationn provides some intution about how and why things might be working on the brain"
   ]
  },
  {
   "cell_type": "code",
   "execution_count": null,
   "metadata": {},
   "outputs": [],
   "source": []
  }
 ],
 "metadata": {
  "kernelspec": {
   "display_name": "Python 3",
   "language": "python",
   "name": "python3"
  },
  "language_info": {
   "codemirror_mode": {
    "name": "ipython",
    "version": 3
   },
   "file_extension": ".py",
   "mimetype": "text/x-python",
   "name": "python",
   "nbconvert_exporter": "python",
   "pygments_lexer": "ipython3",
   "version": "3.8.3"
  }
 },
 "nbformat": 4,
 "nbformat_minor": 4
}
